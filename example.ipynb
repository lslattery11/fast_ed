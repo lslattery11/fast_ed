{
 "cells": [
  {
   "cell_type": "code",
   "execution_count": 123,
   "metadata": {},
   "outputs": [],
   "source": [
    "import sys\n",
    "import numpy as np\n",
    "import matplotlib.pyplot as plt\n",
    "sys.path.append(\".\")\n",
    "import j1j2_2d_block"
   ]
  },
  {
   "cell_type": "markdown",
   "metadata": {},
   "source": [
    "### Creating the model, then diagonalizing it using two different methods"
   ]
  },
  {
   "cell_type": "code",
   "execution_count": 124,
   "metadata": {},
   "outputs": [],
   "source": [
    "width=3\n",
    "depth=4\n",
    "J1=1.0\n",
    "J2=0.5\n",
    "model1=j1j2_2d_block.J1J2_2D(width,depth,J1,J2,0)\n",
    "\n"
   ]
  },
  {
   "cell_type": "markdown",
   "metadata": {},
   "source": [
    "First, we diagonalize the block using the slow, high memory method."
   ]
  },
  {
   "cell_type": "code",
   "execution_count": 125,
   "metadata": {},
   "outputs": [
    {
     "name": "stdout",
     "output_type": "stream",
     "text": [
      "Dense matrix needs  128.0  MiB of memory.\n"
     ]
    }
   ],
   "source": [
    "model1.create_matrix_block()\n",
    "model1.diagonalize()"
   ]
  },
  {
   "cell_type": "markdown",
   "metadata": {},
   "source": [
    "Next, lets check and make sure that the lowest 3 eigenvectors all have norm 1 and are orthogonal."
   ]
  },
  {
   "cell_type": "code",
   "execution_count": 126,
   "metadata": {},
   "outputs": [
    {
     "name": "stdout",
     "output_type": "stream",
     "text": [
      "[[ 1.44165237e-32  3.98803154e-34 -1.43672383e-35]\n",
      " [ 3.98803154e-34  4.29215663e-34 -6.82387037e-35]\n",
      " [-1.43672383e-35 -6.82387037e-35  5.19236032e-35]]\n"
     ]
    }
   ],
   "source": [
    "eigvs=model.eigenvectors[0:3]\n",
    "print(np.inner(eigvs.conj(),eigvs))"
   ]
  },
  {
   "cell_type": "markdown",
   "metadata": {},
   "source": [
    "Now lets try the faster, lower memory method for calculating only the kth lowest eigenvalues."
   ]
  },
  {
   "cell_type": "code",
   "execution_count": 127,
   "metadata": {},
   "outputs": [],
   "source": [
    "model2=j1j2_2d_block.J1J2_2D(width,depth,J1,J2,0)\n",
    "model2.create_matrix_block()\n",
    "model2.sparse_calc_spectrum(k=3)"
   ]
  },
  {
   "cell_type": "markdown",
   "metadata": {},
   "source": [
    "We can try to diagonalize a larger model width and width =3 and depth = 6. This would take 128 Gb using the dense matrix method."
   ]
  },
  {
   "cell_type": "code",
   "execution_count": 128,
   "metadata": {},
   "outputs": [],
   "source": [
    "width=4\n",
    "depth=4\n",
    "model2=j1j2_2d_block.J1J2_2D(width,depth,J1,J2,0)\n",
    "model2.create_matrix_block()\n",
    "model2.sparse_calc_spectrum(k=3)"
   ]
  }
 ],
 "metadata": {
  "interpreter": {
   "hash": "6fefcdab186b42899a952ba1d9c8ca92e4c664878b7db220702f9df15fc371b3"
  },
  "kernelspec": {
   "display_name": "Python 3.9.7 ('base')",
   "language": "python",
   "name": "python3"
  },
  "language_info": {
   "codemirror_mode": {
    "name": "ipython",
    "version": 3
   },
   "file_extension": ".py",
   "mimetype": "text/x-python",
   "name": "python",
   "nbconvert_exporter": "python",
   "pygments_lexer": "ipython3",
   "version": "3.9.7"
  },
  "orig_nbformat": 4
 },
 "nbformat": 4,
 "nbformat_minor": 2
}
