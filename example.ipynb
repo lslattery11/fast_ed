{
 "cells": [
  {
   "cell_type": "code",
   "execution_count": 5,
   "metadata": {},
   "outputs": [],
   "source": [
    "import sys\n",
    "import numpy as np\n",
    "import matplotlib.pyplot as plt\n",
    "sys.path.append(\".\")\n",
    "import j1j2_2d_block"
   ]
  },
  {
   "cell_type": "markdown",
   "metadata": {},
   "source": [
    "### Creating the model, then diagonalizing it using two different methods"
   ]
  },
  {
   "cell_type": "code",
   "execution_count": 6,
   "metadata": {},
   "outputs": [],
   "source": [
    "width=3\n",
    "depth=4\n",
    "J1=1.0\n",
    "J2=0.5\n",
    "model1=j1j2_2d_block.J1J2_2D(width,depth,J1,J2,0)\n",
    "\n"
   ]
  },
  {
   "cell_type": "markdown",
   "metadata": {},
   "source": [
    "First, we diagonalize the block using the slow, high memory method."
   ]
  },
  {
   "cell_type": "code",
   "execution_count": 7,
   "metadata": {},
   "outputs": [
    {
     "name": "stdout",
     "output_type": "stream",
     "text": [
      "Dense matrix needs  128.0  MiB of memory.\n"
     ]
    }
   ],
   "source": [
    "model1.create_matrix_block()\n",
    "model1.diagonalize()"
   ]
  },
  {
   "cell_type": "markdown",
   "metadata": {},
   "source": [
    "Next, lets check and make sure that the lowest 3 eigenvectors all have norm 1 and are orthogonal."
   ]
  },
  {
   "cell_type": "code",
   "execution_count": 8,
   "metadata": {},
   "outputs": [
    {
     "name": "stdout",
     "output_type": "stream",
     "text": [
      "[[ 1.00000000e+00  0.00000000e+00  0.00000000e+00]\n",
      " [ 0.00000000e+00  1.00000000e+00 -1.11022302e-16]\n",
      " [ 0.00000000e+00 -1.11022302e-16  1.00000000e+00]]\n"
     ]
    }
   ],
   "source": [
    "eigvs=model1.eigenvectors[0:3]\n",
    "print(np.inner(eigvs.conj(),eigvs))"
   ]
  },
  {
   "cell_type": "markdown",
   "metadata": {},
   "source": [
    "Now lets try the faster, lower memory method for calculating only the kth lowest eigenvalues."
   ]
  },
  {
   "cell_type": "code",
   "execution_count": 9,
   "metadata": {},
   "outputs": [],
   "source": [
    "model2=j1j2_2d_block.J1J2_2D(width,depth,J1,J2,0)\n",
    "model2.create_matrix_block()\n",
    "model2.sparse_calc_spectrum(k=3)"
   ]
  },
  {
   "cell_type": "markdown",
   "metadata": {},
   "source": [
    "We can try to diagonalize a larger model width and width = 4 and depth = 4. This would take 32 Gb using the dense matrix method."
   ]
  },
  {
   "cell_type": "code",
   "execution_count": 10,
   "metadata": {},
   "outputs": [],
   "source": [
    "width=4\n",
    "depth=4\n",
    "model2=j1j2_2d_block.J1J2_2D(width,depth,J1,J2,0)\n",
    "model2.create_matrix_block()\n",
    "model2.sparse_calc_spectrum(k=3)"
   ]
  }
 ],
 "metadata": {
  "interpreter": {
   "hash": "6fefcdab186b42899a952ba1d9c8ca92e4c664878b7db220702f9df15fc371b3"
  },
  "kernelspec": {
   "display_name": "Python 3.9.7 ('base')",
   "language": "python",
   "name": "python3"
  },
  "language_info": {
   "codemirror_mode": {
    "name": "ipython",
    "version": 3
   },
   "file_extension": ".py",
   "mimetype": "text/x-python",
   "name": "python",
   "nbconvert_exporter": "python",
   "pygments_lexer": "ipython3",
   "version": "3.9.7"
  },
  "orig_nbformat": 4
 },
 "nbformat": 4,
 "nbformat_minor": 2
}
